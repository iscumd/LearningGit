{
 "cells": [
  {
   "cell_type": "markdown",
   "metadata": {},
   "source": [
    "<img src='folder_in/mont_blanc_stl.png' height=\"250\" width=\"350\">"
   ]
  }
 ],
 "metadata": {
  "interpreter": {
   "hash": "935779d57f725094de12923e12732c00ebf7a2640f8ea30a638d7a5516f5f5f7"
  },
  "kernelspec": {
   "display_name": "Python 3.8.5 64-bit ('base': conda)",
   "name": "python3"
  },
  "language_info": {
   "name": "python",
   "version": ""
  },
  "orig_nbformat": 4
 },
 "nbformat": 4,
 "nbformat_minor": 2
}